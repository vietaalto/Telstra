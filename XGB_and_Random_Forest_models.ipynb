{
 "cells": [
  {
   "cell_type": "code",
   "execution_count": null,
   "metadata": {},
   "outputs": [],
   "source": [
    "%matplotlib inline\n",
    "import os\n",
    "import pandas as pd\n",
    "import numpy as np\n",
    "import xgboost as xgb\n",
    "from sklearn.cross_validation import StratifiedKFold\n",
    "from sklearn.ensemble import RandomForestClassifier, ExtraTreesClassifier\n",
    "from src.telstra_data import TelstraData, multiclass_log_loss\n",
    "from matplotlib import pyplot as plt\n",
    "from scipy.optimize import minimize"
   ]
  },
  {
   "cell_type": "markdown",
   "metadata": {},
   "source": [
    "This notebook will show the random forest (RF) and xgboost models I used for a final submission.\n",
    "\n",
    "## XGB models"
   ]
  },
  {
   "cell_type": "markdown",
   "metadata": {},
   "source": [
    "Here are the configurations of six xgb models that went into my final submission. Let's fit them to our training data and evaluate validation performance."
   ]
  },
  {
   "cell_type": "code",
   "execution_count": 63,
   "metadata": {
    "collapsed": true
   },
   "outputs": [],
   "source": [
    "commonparams = {'eval_metric': 'mlogloss', \n",
    "                'max_delta_step': 1, \n",
    "                'objective': 'multi:softprob', \n",
    "                'silent': 1, \n",
    "                'num_class': 3}"
   ]
  },
  {
   "cell_type": "code",
   "execution_count": 74,
   "metadata": {
    "collapsed": true
   },
   "outputs": [],
   "source": [
    "xgbparams = [{'alpha': 9.070509594630558e-05,\n",
    "  'colsample_bytree': 0.8972541420793363,\n",
    "  'eta': 0.01502700272070676,\n",
    "  'lambda': 83.05282248672957,\n",
    "  'max_depth': 17.0,\n",
    "  'subsample': 0.5349534042968074},\n",
    " {'alpha': 4.683734619799559e-05,\n",
    "  'colsample_bytree': 0.5256667987490449,\n",
    "  'eta': 0.030280365635423655,\n",
    "  'lambda': 133.0395353323493,\n",
    "  'max_depth': 14.0,\n",
    "  'subsample': 0.31360418453779687},\n",
    " {'alpha': 0.0031639363875188785,\n",
    "  'colsample_bytree': 0.5323284110284611,\n",
    "  'eta': 0.0230140072243492,\n",
    "  'lambda': 324.8350511121133,\n",
    "  'max_depth': 14,\n",
    "  'subsample': 0.7801747377178474},\n",
    " {'alpha': 0.0003370723167958087,\n",
    "  'colsample_bytree': 0.34693769396886787,\n",
    "  'eta': 0.026673988051864925,\n",
    "  'lambda': 31.087281466818265,\n",
    "  'max_depth': 29.0,\n",
    "  'subsample': 0.322428925517773},\n",
    " {'alpha': 0.0005973413827509292,\n",
    "  'colsample_bytree': 0.8730396289388369,\n",
    "  'eta': 0.03603156818614976,\n",
    "  'lambda': 16.76076386621095,\n",
    "  'max_depth': 14.0,\n",
    "  'subsample': 0.489741772820973},\n",
    " {'alpha': 0.0007008911010374653,\n",
    "  'colsample_bytree': 0.4240562779860287,\n",
    "  'eta': 0.01654419336572982,\n",
    "  'lambda': 115.36267040519867,\n",
    "  'max_depth': 14.0,\n",
    "  'subsample': 0.6039677499529313}]"
   ]
  },
  {
   "cell_type": "code",
   "execution_count": 65,
   "metadata": {
    "collapsed": true
   },
   "outputs": [],
   "source": [
    "numtrees = [1246, 1757, 2426, 769, 315, 1958]"
   ]
  },
  {
   "cell_type": "code",
   "execution_count": 68,
   "metadata": {
    "collapsed": true
   },
   "outputs": [],
   "source": [
    "featureparams = {'location_min_count': 0,\n",
    " 'n_common_events': 20,\n",
    " 'n_common_log_features': 60,\n",
    " 'n_common_resources': 10,\n",
    " 'n_label_encoded_log_features': 4}\n",
    "aggregateparams = {\"loc_agg_prior_weight\":3.0}"
   ]
  },
  {
   "cell_type": "code",
   "execution_count": 69,
   "metadata": {
    "collapsed": true
   },
   "outputs": [],
   "source": [
    "data = TelstraData(**featureparams)\n",
    "Xtr, ytr, Xte, yte = data.get_train_test_features(itrain, itest,**aggregateparams)"
   ]
  },
  {
   "cell_type": "code",
   "execution_count": 77,
   "metadata": {},
   "outputs": [],
   "source": [
    "dtrain = xgb.DMatrix(Xtr, ytr)\n",
    "dtest = xgb.DMatrix(Xte)"
   ]
  },
  {
   "cell_type": "code",
   "execution_count": 87,
   "metadata": {},
   "outputs": [
    {
     "name": "stdout",
     "output_type": "stream",
     "text": [
      "XGB model 1 validation set mlogloss = 0.43935, ensemble mlogloss = 0.43935\n",
      "XGB model 2 validation set mlogloss = 0.44199, ensemble mlogloss = 0.43967\n",
      "XGB model 3 validation set mlogloss = 0.44466, ensemble mlogloss = 0.44064\n",
      "XGB model 4 validation set mlogloss = 0.43774, ensemble mlogloss = 0.43898\n",
      "XGB model 5 validation set mlogloss = 0.44071, ensemble mlogloss = 0.43844\n",
      "XGB model 6 validation set mlogloss = 0.44141, ensemble mlogloss = 0.43880\n"
     ]
    }
   ],
   "source": [
    "xgbpreds = []\n",
    "xgb_single_model_loss = []\n",
    "xgb_ensemble_loss = []\n",
    "i=0\n",
    "for clfparams, num_rounds in zip(xgbparams, numtrees):\n",
    "    clfparams.update(commonparams)\n",
    "    gbm = xgb.train(clfparams, dtrain, num_rounds)\n",
    "    xgbpred = pd.DataFrame(gbm.predict(dtest).reshape(yte.shape[0],len(pred_cols)),\n",
    "                            index = yte.index, columns = pred_cols)\n",
    "    loss = multiclass_log_loss(yte, xgbpred.values)\n",
    "    xgbpreds.append(xgbpred)\n",
    "    xgb_single_model_loss.append(loss)\n",
    "    ensemble_loss = multiclass_log_loss(yte, (sum(xgbpreds)/len(xgbpreds)).values)\n",
    "    xgb_ensemble_loss.append(ensemble_loss)\n",
    "    i+=1\n",
    "    print('XGB model {} validation set mlogloss = {:.5f}, ensemble mlogloss = {:.5f}'.format(i,loss, ensemble_loss))"
   ]
  },
  {
   "cell_type": "code",
   "execution_count": 88,
   "metadata": {},
   "outputs": [
    {
     "data": {
      "image/png": "[encoded data removed]",
      "text/plain": [
       "<matplotlib.figure.Figure at 0x7fcadac97128>"
      ]
     },
     "metadata": {},
     "output_type": "display_data"
    }
   ],
   "source": [
    "fig, ax = plt.subplots()\n",
    "ax.plot(np.arange(6)+1,xgb_single_model_loss,'o-')\n",
    "ax.plot(np.arange(6)+1,xgb_ensemble_loss,'o-')\n",
    "ax.hlines(np.mean(xgb_single_model_loss),1,6,colors='b',linestyles='dashed')\n",
    "ax.legend(['single model', 'ensemble of n'],loc='upper right')\n",
    "ax.grid()\n",
    "ax.set_xlabel('number of models')\n",
    "ax.set_title('Validation set mlogloss of XGB models');"
   ]
  },
  {
   "cell_type": "markdown",
   "metadata": {},
   "source": [
    "XGB models have better performance, but contrary to the neural net models they do not benefit much from blending."
   ]
  },
  {
   "cell_type": "markdown",
   "metadata": {},
   "source": [
    "## More models into the mix\n",
    "\n",
    "Let's throw in some RF and ET models for good measure."
   ]
  },
  {
   "cell_type": "code",
   "execution_count": 91,
   "metadata": {},
   "outputs": [
    {
     "data": {
      "text/plain": [
       "0.44588335947564389"
      ]
     },
     "execution_count": 91,
     "metadata": {},
     "output_type": "execute_result"
    }
   ],
   "source": [
    "rf = RandomForestClassifier(n_estimators = 400, min_samples_leaf=3, max_features=20, random_state=1)\n",
    "rf.fit(Xtr, ytr)\n",
    "rfpred = pd.DataFrame(rf.predict_proba(Xte),index = yte.index, columns = pred_cols)\n",
    "multiclass_log_loss(yte.values, rfpred.values)"
   ]
  },
  {
   "cell_type": "code",
   "execution_count": 93,
   "metadata": {},
   "outputs": [
    {
     "data": {
      "text/plain": [
       "0.43957680347939809"
      ]
     },
     "execution_count": 93,
     "metadata": {},
     "output_type": "execute_result"
    }
   ],
   "source": [
    "et = ExtraTreesClassifier(n_estimators = 400, random_state=1)\n",
    "et.fit(Xtr, ytr)\n",
    "etpred = pd.DataFrame(et.predict_proba(Xte),index = yte.index, columns = pred_cols)\n",
    "multiclass_log_loss(yte.values, etpred.values)"
   ]
  },
  {
   "cell_type": "markdown",
   "metadata": {},
   "source": [
    "## Blending"
   ]
  },
  {
   "cell_type": "markdown",
   "metadata": {},
   "source": [
    "So now we have predictions of 4 models on our holdout set. Let's try blending them to get an idea of what improvement might be gained."
   ]
  },
  {
   "cell_type": "code",
   "execution_count": 94,
   "metadata": {
    "collapsed": true
   },
   "outputs": [],
   "source": [
    "# take average predictions from models of each class\n",
    "xgbpred = sum(xgbpreds)/len(xgbpreds)"
   ]
  },
  {
   "cell_type": "markdown",
   "metadata": {},
   "source": [
    "Let's try giving each model equal weights:"
   ]
  },
  {
   "cell_type": "code",
   "execution_count": 95,
   "metadata": {},
   "outputs": [
    {
     "data": {
      "text/plain": [
       "0.4241682934794524"
      ]
     },
     "execution_count": 95,
     "metadata": {},
     "output_type": "execute_result"
    }
   ],
   "source": [
    "blend1 = (xgbpred+rfpred+etpred)/3\n",
    "multiclass_log_loss(yte.values, blend1.values)"
   ]
  },
  {
   "cell_type": "markdown",
   "metadata": {},
   "source": [
    "Not bad, we went from 0.439 as the best score to 0.424 by combining predictions from all models."
   ]
  }
 ],
 "metadata": {
  "kernelspec": {
   "display_name": "Python 3",
   "language": "python",
   "name": "python3"
  },
  "language_info": {
   "codemirror_mode": {
    "name": "ipython",
    "version": 3
   },
   "file_extension": ".py",
   "mimetype": "text/x-python",
   "name": "python",
   "nbconvert_exporter": "python",
   "pygments_lexer": "ipython3",
   "version": "3.6.2"
  }
 },
 "nbformat": 4,
 "nbformat_minor": 1
}
